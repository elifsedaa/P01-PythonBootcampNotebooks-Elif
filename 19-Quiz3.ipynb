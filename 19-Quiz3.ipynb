{
  "cells": [
    {
      "cell_type": "code",
      "execution_count": null,
      "metadata": {
        "id": "bncbTq3i8eGZ"
      },
      "outputs": [],
      "source": [
        "#1) Aşağıdaki kodun çıktısı ne olacaktır?"
      ]
    },
    {
      "cell_type": "code",
      "execution_count": null,
      "metadata": {
        "id": "e_iJRn_t8eGb"
      },
      "outputs": [],
      "source": [
        "def toplama(a,b):\n",
        "    print(a,b)"
      ]
    },
    {
      "cell_type": "code",
      "execution_count": null,
      "metadata": {
        "id": "hdJQ989k8eGb",
        "outputId": "d28854c7-cca6-4ed5-d47b-7a84a746cb54"
      },
      "outputs": [
        {
          "data": {
            "text/plain": [
              "'\\nx = toplama(3,4)\\nprint(x)\\n'"
            ]
          },
          "execution_count": 3,
          "metadata": {},
          "output_type": "execute_result"
        }
      ],
      "source": [
        "'''\n",
        "x = toplama(3,4)\n",
        "print(x)\n",
        "'''"
      ]
    },
    {
      "cell_type": "code",
      "execution_count": null,
      "metadata": {
        "id": "Ns1McWlV8eGc"
      },
      "outputs": [],
      "source": [
        "# 3 4\n",
        "# none"
      ]
    },
    {
      "cell_type": "code",
      "execution_count": null,
      "metadata": {
        "id": "j1mwDcYA8eGc"
      },
      "outputs": [],
      "source": [
        "#2) Aşağıdaki kodun çıktısı ne olacaktır?"
      ]
    },
    {
      "cell_type": "code",
      "execution_count": null,
      "metadata": {
        "id": "BDIyStCd8eGc"
      },
      "outputs": [],
      "source": [
        "def usselIslem(x=5,y=3):\n",
        "    print(x ** y)"
      ]
    },
    {
      "cell_type": "markdown",
      "metadata": {
        "id": "UWmkte-n8eGc"
      },
      "source": [
        "usselIslem(2,4)"
      ]
    },
    {
      "cell_type": "code",
      "execution_count": null,
      "metadata": {
        "id": "dofpQNNu8eGd"
      },
      "outputs": [],
      "source": [
        "# 16"
      ]
    },
    {
      "cell_type": "code",
      "execution_count": null,
      "metadata": {
        "id": "LALUBZuD8eGe"
      },
      "outputs": [],
      "source": [
        "#3) Aynı fonksiyonu aşağıdaki gibi çağırırsak çıktı ne olur?"
      ]
    },
    {
      "cell_type": "markdown",
      "metadata": {
        "id": "Tf5xX6X_8eGe"
      },
      "source": [
        "usselIslem()"
      ]
    },
    {
      "cell_type": "code",
      "execution_count": null,
      "metadata": {
        "id": "k9kYeef48eGe"
      },
      "outputs": [],
      "source": [
        "# 125"
      ]
    },
    {
      "cell_type": "code",
      "execution_count": null,
      "metadata": {
        "id": "UfHVbJoQ8eGe"
      },
      "outputs": [],
      "source": [
        "#4) Aşağıdaki kodun çıktısı ne olacaktır?"
      ]
    },
    {
      "cell_type": "code",
      "execution_count": null,
      "metadata": {
        "id": "DUL4t9W-8eGe"
      },
      "outputs": [],
      "source": [
        "def myLoop(*args):\n",
        "    for element in args:\n",
        "        print(element / 2)"
      ]
    },
    {
      "cell_type": "markdown",
      "metadata": {
        "id": "BG-eUtTP8eGe"
      },
      "source": [
        "myLoop(3,2,1,5,3,4)"
      ]
    },
    {
      "cell_type": "code",
      "execution_count": null,
      "metadata": {
        "id": "O7UINwWl8eGf"
      },
      "outputs": [],
      "source": [
        "# 1.5\n",
        "#1\n",
        "#0.5\n",
        "#2.5\n",
        "#1.5\n",
        "#2.0"
      ]
    },
    {
      "cell_type": "code",
      "execution_count": null,
      "metadata": {
        "id": "6EDDmXjG8eGf"
      },
      "outputs": [],
      "source": [
        "#5) Aşağıdaki dizide belirtilen rakamları, myFunction fonksiyonuna tabi tutup, yeni bir dizi oluşturunuz"
      ]
    },
    {
      "cell_type": "code",
      "execution_count": 2,
      "metadata": {
        "id": "ZrPB4NF08eGf"
      },
      "outputs": [],
      "source": [
        "def myFunc(num):\n",
        "    return num ** 3"
      ]
    },
    {
      "cell_type": "code",
      "execution_count": 3,
      "metadata": {
        "id": "84r2kROY8eGf"
      },
      "outputs": [],
      "source": [
        "myList = [2,3,4,5,6]"
      ]
    },
    {
      "cell_type": "code",
      "execution_count": 1,
      "metadata": {
        "id": "5A7d5QxQ8eGf"
      },
      "outputs": [],
      "source": [
        "list(map(myFunc,myList))"
      ]
    },
    {
      "cell_type": "code",
      "execution_count": null,
      "metadata": {
        "id": "IfYJxLk58eGf"
      },
      "outputs": [],
      "source": [
        "# cevap"
      ]
    },
    {
      "cell_type": "code",
      "execution_count": null,
      "metadata": {
        "id": "6UZIMtnQ8eGf"
      },
      "outputs": [],
      "source": [
        "#6) Aşağıdaki string dizisinde, içinde sadece XYZ geçen barkodları gösterecek yeni bir liste oluşturunuz"
      ]
    },
    {
      "cell_type": "code",
      "execution_count": null,
      "metadata": {
        "id": "tOvTLo9-8eGf"
      },
      "outputs": [],
      "source": [
        "barkodDizisi = [\"ABC231\",\"SA3123XYZ\",\"XYZA123Q\",\"QRE1231KJ\",\"X112QGL\"]"
      ]
    },
    {
      "cell_type": "code",
      "execution_count": 4,
      "metadata": {
        "id": "i5pCUCPF8eGf",
        "outputId": "6a347d27-78be-4f86-f8fd-a7b719adaebd",
        "colab": {
          "base_uri": "https://localhost:8080/",
          "height": 146
        }
      },
      "outputs": [
        {
          "output_type": "error",
          "ename": "NameError",
          "evalue": "name 'barkodDizisi' is not defined",
          "traceback": [
            "\u001b[0;31m---------------------------------------------------------------------------\u001b[0m",
            "\u001b[0;31mNameError\u001b[0m                                 Traceback (most recent call last)",
            "\u001b[0;32m/tmp/ipython-input-2975412518.py\u001b[0m in \u001b[0;36m<cell line: 0>\u001b[0;34m()\u001b[0m\n\u001b[0;32m----> 1\u001b[0;31m \u001b[0mlist\u001b[0m\u001b[0;34m(\u001b[0m\u001b[0mfilter\u001b[0m\u001b[0;34m(\u001b[0m\u001b[0;32mlambda\u001b[0m \u001b[0mstring\u001b[0m \u001b[0;34m:\u001b[0m \u001b[0;34m\"XYZ\"\u001b[0m \u001b[0;32min\u001b[0m \u001b[0mstring\u001b[0m\u001b[0;34m,\u001b[0m\u001b[0mbarkodDizisi\u001b[0m\u001b[0;34m)\u001b[0m\u001b[0;34m)\u001b[0m\u001b[0;34m\u001b[0m\u001b[0;34m\u001b[0m\u001b[0m\n\u001b[0m",
            "\u001b[0;31mNameError\u001b[0m: name 'barkodDizisi' is not defined"
          ]
        }
      ],
      "source": [
        "list(filter(lambda string : \"XYZ\" in string,barkodDizisi))"
      ]
    },
    {
      "cell_type": "code",
      "execution_count": null,
      "metadata": {
        "id": "BDAJDZeQ8eGf"
      },
      "outputs": [],
      "source": [
        "# cevap"
      ]
    },
    {
      "cell_type": "code",
      "execution_count": null,
      "metadata": {
        "id": "1BXkWtdx8eGf"
      },
      "outputs": [],
      "source": [
        "#7) Aşağıdaki kodu okursanız, ornekFonksiyon çalıştırıldığında en altta yazdırılan print size neyi yazdıracaktır?"
      ]
    },
    {
      "cell_type": "code",
      "execution_count": null,
      "metadata": {
        "id": "v7AM31tw8eGf"
      },
      "outputs": [],
      "source": [
        "myVar = \"Atil Samancioglu\"\n",
        "\n",
        "def ornekFonksiyon():\n",
        "    myVar = \"Atil\"\n",
        "\n",
        "    def digerFonksiyon():\n",
        "        print(myVar)\n",
        "\n",
        "    digerFonksiyon()"
      ]
    },
    {
      "cell_type": "code",
      "execution_count": null,
      "metadata": {
        "id": "PtU0aIVK8eGf"
      },
      "outputs": [],
      "source": [
        "#ornekFonksiyon()"
      ]
    },
    {
      "cell_type": "code",
      "execution_count": null,
      "metadata": {
        "id": "_qIgBUzl8eGf"
      },
      "outputs": [],
      "source": [
        "# Atil"
      ]
    },
    {
      "cell_type": "code",
      "execution_count": null,
      "metadata": {
        "id": "-ZBsdv5N8eGf"
      },
      "outputs": [],
      "source": [
        "#8) Aşağıda yazdırılan sınıfı incelediğinizde kedim.yasiCarp() kodunun çıktısı ne olacaktır?"
      ]
    },
    {
      "cell_type": "code",
      "execution_count": null,
      "metadata": {
        "id": "MiMT-K4J8eGf"
      },
      "outputs": [],
      "source": [
        "class Kedi():\n",
        "\n",
        "    def __init__(self,isim,yas=5):\n",
        "        self.isim = isim\n",
        "        self.yas = yas\n",
        "\n",
        "    def yasiCarp(self):\n",
        "        return self.yas * 3"
      ]
    },
    {
      "cell_type": "code",
      "execution_count": null,
      "metadata": {
        "id": "hmsc8X3n8eGf"
      },
      "outputs": [],
      "source": [
        "kedim = Kedi(\"Tonton\")"
      ]
    },
    {
      "cell_type": "code",
      "execution_count": null,
      "metadata": {
        "id": "m8gJ1Su-8eGf"
      },
      "outputs": [],
      "source": [
        "#kedim.yasiCarp()"
      ]
    },
    {
      "cell_type": "code",
      "execution_count": null,
      "metadata": {
        "id": "buZjq-oA8eGf"
      },
      "outputs": [],
      "source": [
        "# 15"
      ]
    },
    {
      "cell_type": "code",
      "execution_count": null,
      "metadata": {
        "id": "1kjqahl_8eGg"
      },
      "outputs": [],
      "source": [
        "#9) Aşağıdaki kodun çıktısı ne olacaktır?"
      ]
    },
    {
      "cell_type": "code",
      "execution_count": null,
      "metadata": {
        "id": "lYVJZO8e8eGg"
      },
      "outputs": [],
      "source": [
        "class Ogrenci():\n",
        "\n",
        "    def __init__(self,isim,sinavNotu):\n",
        "        self.isim = isim\n",
        "        self.__sinavNotu = sinavNotu\n",
        "\n",
        "    def notuGoster(self):\n",
        "        print(f\"{self.isim} sınav notu: {self.__sinavNotu}\")"
      ]
    },
    {
      "cell_type": "code",
      "execution_count": null,
      "metadata": {
        "id": "ecfEECQl8eGg"
      },
      "outputs": [],
      "source": [
        "ogrenci = Ogrenci(\"Mehmet\",85)"
      ]
    },
    {
      "cell_type": "code",
      "execution_count": null,
      "metadata": {
        "id": "KVy329rT8eGg"
      },
      "outputs": [],
      "source": [
        "ogrenci.__sinavNotu = 75"
      ]
    },
    {
      "cell_type": "code",
      "execution_count": null,
      "metadata": {
        "id": "y8m0yIyB8eGg"
      },
      "outputs": [],
      "source": [
        "#ogrenci.notuGoster()"
      ]
    },
    {
      "cell_type": "code",
      "execution_count": null,
      "metadata": {
        "id": "qX2QDu-a8eGg"
      },
      "outputs": [],
      "source": [
        "# 85"
      ]
    },
    {
      "cell_type": "code",
      "execution_count": null,
      "metadata": {
        "id": "VklVZsIQ8eGj"
      },
      "outputs": [],
      "source": [
        "#10) Soyut sınıflar ve methodlar oluşturmamıza olanak tanıyan, kodlarımızı daha planlı şekilde yazmamızı mümkün kılan"
      ]
    },
    {
      "cell_type": "code",
      "execution_count": null,
      "metadata": {
        "id": "7g58Cysg8eGj"
      },
      "outputs": [],
      "source": [
        "# aynı zamanda büyük projelerde bize yapısal olarak fayda sağlayabilecek OOP prensibinin adı nedir?"
      ]
    },
    {
      "cell_type": "code",
      "execution_count": null,
      "metadata": {
        "id": "AWd-J9Ba8eGk"
      },
      "outputs": [],
      "source": [
        "# Abstraction"
      ]
    },
    {
      "cell_type": "code",
      "execution_count": null,
      "metadata": {
        "id": "csnnZxs98eGk"
      },
      "outputs": [],
      "source": []
    }
  ],
  "metadata": {
    "kernelspec": {
      "display_name": "Python 3",
      "language": "python",
      "name": "python3"
    },
    "language_info": {
      "codemirror_mode": {
        "name": "ipython",
        "version": 3
      },
      "file_extension": ".py",
      "mimetype": "text/x-python",
      "name": "python",
      "nbconvert_exporter": "python",
      "pygments_lexer": "ipython3",
      "version": "3.8.5"
    },
    "colab": {
      "provenance": []
    }
  },
  "nbformat": 4,
  "nbformat_minor": 0
}