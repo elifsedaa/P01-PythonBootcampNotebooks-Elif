{
  "cells": [
    {
      "cell_type": "code",
      "execution_count": 3,
      "metadata": {
        "id": "wYG84ZmeO6sr"
      },
      "outputs": [],
      "source": [
        "# 1) Asagidaki string'in 5. harfini bir degiskene atayiniz"
      ]
    },
    {
      "cell_type": "code",
      "execution_count": 4,
      "metadata": {
        "id": "r6_nppmDO6sv"
      },
      "outputs": [],
      "source": [
        "my_string = \"Python Ogreniyorum\""
      ]
    },
    {
      "cell_type": "code",
      "execution_count": 46,
      "metadata": {
        "id": "aFYiA1qRO6sv"
      },
      "outputs": [],
      "source": [
        "x = my_string[4]"
      ]
    },
    {
      "cell_type": "code",
      "execution_count": 47,
      "metadata": {
        "id": "iDpuB9U5O6sw",
        "outputId": "ff0b04d4-e72e-43cb-bf1b-daed114d652d",
        "colab": {
          "base_uri": "https://localhost:8080/",
          "height": 36
        }
      },
      "outputs": [
        {
          "output_type": "execute_result",
          "data": {
            "text/plain": [
              "'o'"
            ],
            "application/vnd.google.colaboratory.intrinsic+json": {
              "type": "string"
            }
          },
          "metadata": {},
          "execution_count": 47
        }
      ],
      "source": [
        "x"
      ]
    },
    {
      "cell_type": "code",
      "execution_count": 7,
      "metadata": {
        "id": "Xcp8i3yKO6sw"
      },
      "outputs": [],
      "source": [
        "# 2) Asagidaki String'in 5. ve 8. karakteri arasindaki tum harflerini yazdiriniz (5 ve 8 dahil)"
      ]
    },
    {
      "cell_type": "code",
      "execution_count": 8,
      "metadata": {
        "id": "H1gozuPNO6sx"
      },
      "outputs": [],
      "source": [
        "my_new_string = \"ProgramlamayaMerhabaDedik\""
      ]
    },
    {
      "cell_type": "code",
      "execution_count": 48,
      "metadata": {
        "id": "kHP_sL-TO6sx",
        "outputId": "611eb61a-395e-49dd-c617-db99d8620f47",
        "colab": {
          "base_uri": "https://localhost:8080/"
        }
      },
      "outputs": [
        {
          "output_type": "stream",
          "name": "stdout",
          "text": [
            "raml\n"
          ]
        }
      ],
      "source": [
        "print(my_new_string[4:8])"
      ]
    },
    {
      "cell_type": "markdown",
      "source": [
        "my_new_string[start:end] → start dahil, end hariç."
      ],
      "metadata": {
        "id": "Pd5RRzZrPwC8"
      }
    },
    {
      "cell_type": "code",
      "execution_count": 11,
      "metadata": {
        "id": "OL3bwVU6O6sz"
      },
      "outputs": [],
      "source": [
        "# 3) Asagidaki String'i kod ile tersten yazin"
      ]
    },
    {
      "cell_type": "code",
      "execution_count": 12,
      "metadata": {
        "id": "OqvyPFITO6s0"
      },
      "outputs": [],
      "source": [
        "my_last_string = \"Afyonkarahisarlilastiramadiklarimizdanmisiniz\""
      ]
    },
    {
      "cell_type": "code",
      "execution_count": 49,
      "metadata": {
        "id": "g5Q1YPKIO6s0"
      },
      "outputs": [],
      "source": [
        "reversed_string = my_last_string[::-1]\n"
      ]
    },
    {
      "cell_type": "code",
      "execution_count": 50,
      "metadata": {
        "id": "vCGw6O0hO6s0",
        "outputId": "cd3d12e0-94a6-47c8-8e5b-94d0169079c4",
        "colab": {
          "base_uri": "https://localhost:8080/"
        }
      },
      "outputs": [
        {
          "output_type": "stream",
          "name": "stdout",
          "text": [
            "zinisimnadzimiralkidamaritsalilrasiharaknoyfA\n"
          ]
        }
      ],
      "source": [
        "print (reversed_string)"
      ]
    },
    {
      "cell_type": "code",
      "execution_count": 15,
      "metadata": {
        "id": "ENEQBBZwO6s0"
      },
      "outputs": [],
      "source": [
        "# 4) Asagidaki islemin sonucu hangi veri tipinde olacaktir?"
      ]
    },
    {
      "cell_type": "markdown",
      "metadata": {
        "id": "NlcTz0LCO6s1"
      },
      "source": [
        "4 + 12.2 + 48"
      ]
    },
    {
      "cell_type": "markdown",
      "source": [
        "float"
      ],
      "metadata": {
        "id": "3HfCzP0_QKTv"
      }
    },
    {
      "cell_type": "code",
      "execution_count": 51,
      "metadata": {
        "id": "XJ4lyYNbO6s2"
      },
      "outputs": [],
      "source": [
        "x = 4 + 12.2 + 48"
      ]
    },
    {
      "cell_type": "code",
      "execution_count": 52,
      "metadata": {
        "id": "KdW2TKgRO6s2",
        "outputId": "c9cf0613-ac80-43a9-e027-8eb209c5183e",
        "colab": {
          "base_uri": "https://localhost:8080/"
        }
      },
      "outputs": [
        {
          "output_type": "execute_result",
          "data": {
            "text/plain": [
              "float"
            ]
          },
          "metadata": {},
          "execution_count": 52
        }
      ],
      "source": [
        "type(x)"
      ]
    },
    {
      "cell_type": "code",
      "execution_count": 18,
      "metadata": {
        "id": "r2m4KQN-O6s2"
      },
      "outputs": [],
      "source": [
        "# 5) Asagidaki islemin sonucu kactir?"
      ]
    },
    {
      "cell_type": "markdown",
      "metadata": {
        "id": "KAxip_YzO6s3"
      },
      "source": [
        "5 + 7 * 12"
      ]
    },
    {
      "cell_type": "code",
      "execution_count": 53,
      "metadata": {
        "id": "NDsSuXdTO6s3"
      },
      "outputs": [],
      "source": [
        "x = 5 + 7 * 12"
      ]
    },
    {
      "cell_type": "code",
      "execution_count": 54,
      "metadata": {
        "id": "-DZAALNRO6s3",
        "outputId": "528bbf96-7dd1-481b-a361-43ff8331bbe7",
        "colab": {
          "base_uri": "https://localhost:8080/"
        }
      },
      "outputs": [
        {
          "output_type": "execute_result",
          "data": {
            "text/plain": [
              "89"
            ]
          },
          "metadata": {},
          "execution_count": 54
        }
      ],
      "source": [
        "x"
      ]
    },
    {
      "cell_type": "code",
      "execution_count": 21,
      "metadata": {
        "id": "zh0xdH0YO6s3"
      },
      "outputs": [],
      "source": [
        "# 6) Bu listeyi en az 2 farkli yoldan olusturunuz: [1,3,\"a\"]"
      ]
    },
    {
      "cell_type": "code",
      "execution_count": 55,
      "metadata": {
        "id": "EtnxOARwO6s3",
        "outputId": "57879929-6b2b-4478-b9c4-b42197f61df6",
        "colab": {
          "base_uri": "https://localhost:8080/"
        }
      },
      "outputs": [
        {
          "output_type": "stream",
          "name": "stdout",
          "text": [
            "[1, 3, 'a']\n"
          ]
        }
      ],
      "source": [
        "my_list1 = [1, 3, \"a\"]\n",
        "print(my_list1)\n"
      ]
    },
    {
      "cell_type": "code",
      "execution_count": 56,
      "metadata": {
        "id": "NKuJQqMnO6s4",
        "outputId": "9d13e938-f286-4871-cbda-0c248bd18067",
        "colab": {
          "base_uri": "https://localhost:8080/"
        }
      },
      "outputs": [
        {
          "output_type": "stream",
          "name": "stdout",
          "text": [
            "[1, 3, 'a']\n"
          ]
        }
      ],
      "source": [
        "my_list3 = []\n",
        "my_list3.append(1)\n",
        "my_list3.append(3)\n",
        "my_list3.append(\"a\")\n",
        "print(my_list3)\n"
      ]
    },
    {
      "cell_type": "code",
      "execution_count": 58,
      "metadata": {
        "id": "0nPyv9xoO6s4",
        "outputId": "a6639642-7f6a-440e-ecb7-57ef061a54b6",
        "colab": {
          "base_uri": "https://localhost:8080/"
        }
      },
      "outputs": [
        {
          "output_type": "stream",
          "name": "stdout",
          "text": [
            "[1, 3, 'a']\n"
          ]
        }
      ],
      "source": [
        " # tuple’ı listeye çeviriyoruz\n",
        "my_list2 = list((1, 3, \"a\"))\n",
        "print(my_list2)\n"
      ]
    },
    {
      "cell_type": "code",
      "execution_count": 25,
      "metadata": {
        "id": "QrkdTqYpO6s4"
      },
      "outputs": [],
      "source": [
        "# 7) Asagidaki \"b\"'yi tek satirda aliniz:"
      ]
    },
    {
      "cell_type": "code",
      "execution_count": 26,
      "metadata": {
        "id": "bBdEEHJPO6s4"
      },
      "outputs": [],
      "source": [
        "my_list = [3.14,4,[2,3,\"b\"],True]"
      ]
    },
    {
      "cell_type": "code",
      "execution_count": 59,
      "metadata": {
        "id": "L0PzJOVLO6s5",
        "outputId": "1492e2ed-d7bb-4487-bf85-65dccd513489",
        "colab": {
          "base_uri": "https://localhost:8080/"
        }
      },
      "outputs": [
        {
          "output_type": "stream",
          "name": "stdout",
          "text": [
            "b\n"
          ]
        }
      ],
      "source": [
        "print (my_list[2][2])"
      ]
    },
    {
      "cell_type": "code",
      "execution_count": 28,
      "metadata": {
        "id": "4I_wBopcO6s5"
      },
      "outputs": [],
      "source": [
        "#cevap"
      ]
    },
    {
      "cell_type": "code",
      "execution_count": 29,
      "metadata": {
        "id": "i1qtpeCdO6s5"
      },
      "outputs": [],
      "source": [
        "#cevap"
      ]
    },
    {
      "cell_type": "code",
      "execution_count": 30,
      "metadata": {
        "id": "qSZxOB_LO6s8"
      },
      "outputs": [],
      "source": [
        "# 8) Asagidaki \"a\"'yi tek satirda aliniz:"
      ]
    },
    {
      "cell_type": "code",
      "execution_count": 31,
      "metadata": {
        "id": "xSSlpiMBO6s8"
      },
      "outputs": [],
      "source": [
        "my_dictionary = {\"key1\":20.25, \"kk2\":[40,{\"k21\":\"a\"}]}"
      ]
    },
    {
      "cell_type": "code",
      "execution_count": 63,
      "metadata": {
        "id": "6qEyaUpIO6s9",
        "outputId": "5a0bd838-b63d-4db1-9620-453666834789",
        "colab": {
          "base_uri": "https://localhost:8080/"
        }
      },
      "outputs": [
        {
          "output_type": "stream",
          "name": "stdout",
          "text": [
            "a\n"
          ]
        }
      ],
      "source": [
        "print (my_dictionary [\"kk2\"][1][\"k21\"])"
      ]
    },
    {
      "cell_type": "code",
      "execution_count": 33,
      "metadata": {
        "id": "gixrWWRMO6s9"
      },
      "outputs": [],
      "source": [
        "#cevap"
      ]
    },
    {
      "cell_type": "code",
      "execution_count": 34,
      "metadata": {
        "id": "qUsDpSkJO6s9"
      },
      "outputs": [],
      "source": [
        "# 9) Asagidaki liste set'e cevirilince hangi degerler icinde kalacaktir?"
      ]
    },
    {
      "cell_type": "code",
      "execution_count": 35,
      "metadata": {
        "id": "DBIpAI-vO6s9"
      },
      "outputs": [],
      "source": [
        "my_list_to_be_set = [3,4,9,3,21,22,4,3,9,10,21,22]"
      ]
    },
    {
      "cell_type": "code",
      "execution_count": 64,
      "metadata": {
        "id": "QPxQik3oO6s-"
      },
      "outputs": [],
      "source": [
        "set_list = set(my_list_to_be_set)"
      ]
    },
    {
      "cell_type": "code",
      "execution_count": 65,
      "metadata": {
        "id": "QNPrGeHlO6s-",
        "outputId": "0bd7e473-b641-401f-95f7-b61d1b02a44f",
        "colab": {
          "base_uri": "https://localhost:8080/"
        }
      },
      "outputs": [
        {
          "output_type": "stream",
          "name": "stdout",
          "text": [
            "{3, 4, 9, 10, 21, 22}\n"
          ]
        }
      ],
      "source": [
        "print(set_list)"
      ]
    },
    {
      "cell_type": "code",
      "execution_count": 38,
      "metadata": {
        "id": "v3SYSapQO6s-"
      },
      "outputs": [],
      "source": [
        "# 10) Asagidaki ifadenin sonucu ne olacaktir?"
      ]
    },
    {
      "cell_type": "code",
      "execution_count": 39,
      "metadata": {
        "id": "Q3rFsdgMO6s-"
      },
      "outputs": [],
      "source": [
        "x = 30 * 5 + 3"
      ]
    },
    {
      "cell_type": "code",
      "execution_count": 40,
      "metadata": {
        "id": "UWiG11wAO6tG"
      },
      "outputs": [],
      "source": [
        "y = 108 - 2 * 4"
      ]
    },
    {
      "cell_type": "markdown",
      "metadata": {
        "id": "bbch5ZY2O6tK"
      },
      "source": [
        "x > y"
      ]
    },
    {
      "cell_type": "code",
      "execution_count": 66,
      "metadata": {
        "id": "toiX6ky1O6tK"
      },
      "outputs": [],
      "source": [
        "x = 30 * 5 + 3\n",
        "y = 108 - 2 * 4"
      ]
    },
    {
      "cell_type": "code",
      "execution_count": 67,
      "metadata": {
        "id": "b3OB-IEPO6tL",
        "outputId": "b46bdeea-f285-4b10-f218-6b1668bbbbba",
        "colab": {
          "base_uri": "https://localhost:8080/"
        }
      },
      "outputs": [
        {
          "output_type": "execute_result",
          "data": {
            "text/plain": [
              "True"
            ]
          },
          "metadata": {},
          "execution_count": 67
        }
      ],
      "source": [
        "x>y"
      ]
    },
    {
      "cell_type": "code",
      "execution_count": 43,
      "metadata": {
        "id": "fJzI6xLzO6tL"
      },
      "outputs": [],
      "source": [
        "#cevap"
      ]
    },
    {
      "cell_type": "code",
      "execution_count": 43,
      "metadata": {
        "id": "lNI87pTiO6tL"
      },
      "outputs": [],
      "source": []
    }
  ],
  "metadata": {
    "kernelspec": {
      "display_name": "Python 3",
      "language": "python",
      "name": "python3"
    },
    "language_info": {
      "codemirror_mode": {
        "name": "ipython",
        "version": 3
      },
      "file_extension": ".py",
      "mimetype": "text/x-python",
      "name": "python",
      "nbconvert_exporter": "python",
      "pygments_lexer": "ipython3",
      "version": "3.8.5"
    },
    "colab": {
      "provenance": []
    }
  },
  "nbformat": 4,
  "nbformat_minor": 0
}